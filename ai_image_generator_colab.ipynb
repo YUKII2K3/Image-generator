{
 "cells": [
  {
   "cell_type": "markdown",
   "metadata": {},
   "source": [
    "# AI Image Generator - Colab Demo\n",
    "\n",
    "Run the AI Image Generator project in Google Colab with a public web UI."
   ]
  },
  {
   "cell_type": "code",
   "execution_count": null,
   "metadata": {},
   "outputs": [],
   "source": [
    "# Dummy cell to ensure notebook is recognized as changed\n",
    "print('Notebook loaded successfully!')"
   ]
  },
  {
   "cell_type": "code",
   "execution_count": null,
   "metadata": {},
   "outputs": [],
   "source": [
    "# Check for GPU\n",
    "import torch\n",
    "if torch.cuda.is_available():\n",
    "    print(\"✅ GPU is available:\", torch.cuda.get_device_name(0))\n",
    "else:\n",
    "    print(\"⚠️ GPU is NOT available. This may be slow. Go to Runtime > Change runtime type > GPU.\")"
   ]
  },
  {
   "cell_type": "code",
   "execution_count": null,
   "metadata": {},
   "outputs": [],
   "source": [
    "# Install system and Python dependencies\n",
    "print(\"🔄 Installing dependencies...\")\n",
    "!apt-get -qq update\n",
    "!apt-get -qq install -y git-lfs > /dev/null\n",
    "!pip install --upgrade pip > /dev/null\n",
    "!pip install pygit2==1.15.1 > /dev/null\n",
    "print(\"✅ System dependencies installed\")"
   ]
  },
  {
   "cell_type": "code",
   "execution_count": null,
   "metadata": {},
   "outputs": [],
   "source": [
    "# Clone the repo\n",
    "import os\n",
    "%cd /content\n",
    "if not os.path.exists('Image-generator'):\n",
    "    !git clone https://github.com/YUKII2K3/Image-generator.git\n",
    "else:\n",
    "    print(\"Repo already cloned.\")\n",
    "%cd Image-generator\n",
    "print(\"✅ Repo cloned and working directory set\")"
   ]
  },
  {
   "cell_type": "code",
   "execution_count": null,
   "metadata": {},
   "outputs": [],
   "source": [
    "# Install Python requirements\n",
    "print(\"🔄 Installing Python requirements...\")\n",
    "!pip install -r requirements_versions.txt > /dev/null\n",
    "print(\"✅ Python dependencies installed\")"
   ]
  },
  {
   "cell_type": "code",
   "execution_count": null,
   "metadata": {},
   "outputs": [],
   "source": [
    "# Launch the app with Gradio public URL\n",
    "import subprocess\n",
    "import re\n",
    "print(\"🚀 Launching the AI Image Generator app...\")\n",
    "try:\n",
    "    process = subprocess.Popen(['python', 'entry_with_update.py', '--share', '--always-high-vram'], stdout=subprocess.PIPE, stderr=subprocess.STDOUT, universal_newlines=True)\n",
    "    public_url = None\n",
    "    for line in process.stdout:\n",
    "        print(line, end='')\n",
    "        if 'https://gradio.live' in line:\n",
    "            url_match = re.search(r'(https?://[\\w\\.-]+\\.gradio\\.live[\\w\\./-]*)', line)\n",
    "            if url_match:\n",
    "                public_url = url_match.group(1)\n",
    "                print(f'\\n🌐 Public Gradio URL: {public_url}\\n')\n",
    "    process.wait()\n",
    "    if process.returncode != 0:\n",
    "        raise RuntimeError(f'App exited with code {process.returncode}')\n",
    "    if not public_url:\n",
    "        print('⚠️ Could not find the public Gradio URL in output.')\n",
    "except Exception as e:\n",
    "    print(f'❌ Error launching app: {e}')\n",
    "    raise"
   ]
  }
 ],
 "metadata": {
  "kernelspec": {
   "display_name": "Python 3",
   "language": "python",
   "name": "python3"
  },
  "language_info": {
   "name": "python",
   "version": "3.8.5",
   "mimetype": "text/x-python",
   "codemirror_mode": {
    "name": "ipython",
    "version": 3
   },
   "pygments_lexer": "ipython3",
   "nbconvert_exporter": "python",
   "file_extension": ".py"
  }
 },
 "nbformat": 4,
 "nbformat_minor": 4
}
