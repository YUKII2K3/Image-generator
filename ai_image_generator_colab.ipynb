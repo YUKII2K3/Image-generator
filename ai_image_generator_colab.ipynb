{
 "cells": [
  {
   "cell_type": "markdown",
   "metadata": {},
   "source": [
    "# AI Image Generator - Colab Demo"
   ]
  },
  {
   "cell_type": "code",
   "execution_count": null,
   "metadata": {},
   "outputs": [],
   "source": [
    "# Install required packages\n",
    "!pip install pygit2==1.15.1\n",
    "\n",
    "# Clone my updated GitHub repo\n",
    "%cd /content\n",
    "!git clone https://github.com/YUKII2K3/Image-generator.git\n",
    "%cd Image-generator\n",
    "\n",
    "# Run the app with Gradio\n",
    "!python entry_with_update.py --share --always-high-vram"
   ]
  }
 ],
 "metadata": {
  "kernelspec": {
   "display_name": "Python 3",
   "language": "python",
   "name": "python3"
  },
  "language_info": {
   "codemirror_mode": {
    "name": "ipython",
    "version": 3
   },
   "file_extension": ".py",
   "mimetype": "text/x-python",
   "name": "python",
   "nbconvert_exporter": "python",
   "pygments_lexer": "ipython3",
   "version": "3.8.5"
  }
 },
 "nbformat": 4,
 "nbformat_minor": 4
}
